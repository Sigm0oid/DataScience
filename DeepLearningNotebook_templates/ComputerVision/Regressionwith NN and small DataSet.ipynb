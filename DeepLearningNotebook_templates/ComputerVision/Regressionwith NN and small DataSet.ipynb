{
 "cells": [
  {
   "cell_type": "code",
   "execution_count": 1,
   "metadata": {},
   "outputs": [],
   "source": [
    "from keras.datasets import boston_housing\n",
    "from keras import layers,models\n",
    "import matplotlib.pyplot as plt"
   ]
  },
  {
   "cell_type": "code",
   "execution_count": 2,
   "metadata": {},
   "outputs": [
    {
     "name": "stdout",
     "output_type": "stream",
     "text": [
      "Downloading data from https://s3.amazonaws.com/keras-datasets/boston_housing.npz\n",
      "57344/57026 [==============================] - 0s 3us/step\n"
     ]
    }
   ],
   "source": [
    "(x_train,y_train),(x_test,y_test)=boston_housing.load_data()"
   ]
  },
  {
   "cell_type": "code",
   "execution_count": 4,
   "metadata": {},
   "outputs": [
    {
     "data": {
      "text/plain": [
       "(404, 13)"
      ]
     },
     "execution_count": 4,
     "metadata": {},
     "output_type": "execute_result"
    }
   ],
   "source": [
    "x_train.shape"
   ]
  },
  {
   "cell_type": "code",
   "execution_count": 6,
   "metadata": {},
   "outputs": [
    {
     "data": {
      "text/plain": [
       "15.2"
      ]
     },
     "execution_count": 6,
     "metadata": {},
     "output_type": "execute_result"
    }
   ],
   "source": [
    "y_train[0] # it look like a regression isn't it ?"
   ]
  },
  {
   "cell_type": "code",
   "execution_count": 8,
   "metadata": {},
   "outputs": [
    {
     "data": {
      "text/plain": [
       "array([  1.23247,   0.     ,   8.14   ,   0.     ,   0.538  ,   6.142  ,\n",
       "        91.7    ,   3.9769 ,   4.     , 307.     ,  21.     , 396.9    ,\n",
       "        18.72   ])"
      ]
     },
     "execution_count": 8,
     "metadata": {},
     "output_type": "execute_result"
    }
   ],
   "source": [
    "x_train[0]"
   ]
  },
  {
   "cell_type": "markdown",
   "metadata": {},
   "source": [
    "## Normalizing the data "
   ]
  },
  {
   "cell_type": "code",
   "execution_count": 10,
   "metadata": {},
   "outputs": [],
   "source": [
    "mean=x_train.mean(axis=0)\n",
    "x_train-=mean\n",
    "std=x_train.std(axis=0)\n",
    "x_train/=std"
   ]
  },
  {
   "cell_type": "code",
   "execution_count": 11,
   "metadata": {},
   "outputs": [],
   "source": [
    "mean=x_test.mean(axis=0)\n",
    "x_test-=mean\n",
    "std=x_test.std(axis=0)\n",
    "x_test/=std\n",
    "\n"
   ]
  },
  {
   "cell_type": "code",
   "execution_count": 12,
   "metadata": {},
   "outputs": [],
   "source": [
    "def build_model():\n",
    "    model=models.Sequential()\n",
    "    model.add(layers.Dense(64,activation='relu',\n",
    "                           input_shape=(x_train.shape[1],)))\n",
    "    model.add(layers.Dense(1))\n",
    "    model.compile(optimizer='rmsprop',loss='mse',metrics=['mae'])\n",
    "    return model"
   ]
  },
  {
   "cell_type": "markdown",
   "metadata": {},
   "source": [
    "## validating with k-folds because of the small dataset"
   ]
  },
  {
   "cell_type": "code",
   "execution_count": 25,
   "metadata": {},
   "outputs": [],
   "source": [
    "import numpy as np\n",
    "k=4\n",
    "num_val_samples=len(x_train)//k\n",
    "num_epochs=100\n",
    "all_mae_histories=[]\n",
    "scores=[]\n"
   ]
  },
  {
   "cell_type": "code",
   "execution_count": 22,
   "metadata": {},
   "outputs": [
    {
     "name": "stdout",
     "output_type": "stream",
     "text": [
      "k fold no 0\n",
      "k fold no 1\n",
      "k fold no 2\n",
      "k fold no 3\n"
     ]
    }
   ],
   "source": [
    "\n",
    "for i in range(k):\n",
    "    print('k fold no '+str(i))\n",
    "    x_val=x_train[i*num_val_samples:(i+1)*num_val_samples]\n",
    "    y_val=y_train[i*num_val_samples:(i+1)*num_val_samples]\n",
    "    partial_x_train=np.concatenate([\n",
    "    x_train[:i*num_val_samples],x_train[(i+1)*num_val_samples:]],axis=0)\n",
    "    \n",
    "    partial_y_train=np.concatenate([\n",
    "    y_train[:i*num_val_samples],y_train[(i+1)*num_val_samples:]],axis=0)\n",
    "    model=build_model()\n",
    "    model.fit(partial_x_train,partial_y_train,epochs=num_epochs,\n",
    "              batch_size=1,verbose=0)#verbose=0 train the model without print \n",
    "    val_mse,val_mae=model.evaluate(x_val,y_val,verbose=0)\n",
    "    scores.append(val_mae)"
   ]
  },
  {
   "cell_type": "code",
   "execution_count": 23,
   "metadata": {},
   "outputs": [
    {
     "data": {
      "text/plain": [
       "[1.9430991470223606,\n",
       " 2.3356197281639175,\n",
       " 2.6407407935303038,\n",
       " 2.3043038030662157,\n",
       " 2.074310307455535,\n",
       " 2.2795028450465438,\n",
       " 2.5305877746921954,\n",
       " 2.4238329759918815]"
      ]
     },
     "execution_count": 23,
     "metadata": {},
     "output_type": "execute_result"
    }
   ],
   "source": [
    "scores"
   ]
  },
  {
   "cell_type": "code",
   "execution_count": 24,
   "metadata": {},
   "outputs": [
    {
     "data": {
      "text/plain": [
       "2.316499671871119"
      ]
     },
     "execution_count": 24,
     "metadata": {},
     "output_type": "execute_result"
    }
   ],
   "source": [
    "np.mean(scores)"
   ]
  },
  {
   "cell_type": "markdown",
   "metadata": {},
   "source": [
    "### Train on 500 epochs now ! and keep track of the performance "
   ]
  },
  {
   "cell_type": "code",
   "execution_count": 26,
   "metadata": {},
   "outputs": [
    {
     "name": "stdout",
     "output_type": "stream",
     "text": [
      "k fold no 0\n",
      "k fold no 1\n",
      "k fold no 2\n",
      "k fold no 3\n"
     ]
    }
   ],
   "source": [
    "num_epochs=500\n",
    "for i in range(k):\n",
    "    print('k fold no '+str(i))\n",
    "    x_val=x_train[i*num_val_samples:(i+1)*num_val_samples]\n",
    "    y_val=y_train[i*num_val_samples:(i+1)*num_val_samples]\n",
    "    partial_x_train=np.concatenate([\n",
    "    x_train[:i*num_val_samples],x_train[(i+1)*num_val_samples:]],axis=0)\n",
    "    \n",
    "    partial_y_train=np.concatenate([\n",
    "    y_train[:i*num_val_samples],y_train[(i+1)*num_val_samples:]],axis=0)\n",
    "    model=build_model()\n",
    "    hist=model.fit(partial_x_train,partial_y_train,validation_data=[x_val,y_val],epochs=num_epochs,\n",
    "              batch_size=1,verbose=0)#verbose=0 train the model without print \n",
    "    all_mae_histories.append(hist.history['val_mean_absolute_error'])"
   ]
  },
  {
   "cell_type": "code",
   "execution_count": 28,
   "metadata": {},
   "outputs": [],
   "source": [
    "avarage_mae_history=[\n",
    "    np.mean([x[i] for x in all_mae_histories]) for i in range(num_epochs)]\n"
   ]
  },
  {
   "cell_type": "code",
   "execution_count": 30,
   "metadata": {},
   "outputs": [
    {
     "data": {
      "image/png": "[encoded data removed]",
      "text/plain": [
       "<Figure size 432x288 with 1 Axes>"
      ]
     },
     "metadata": {},
     "output_type": "display_data"
    }
   ],
   "source": [
    "plt.plot(range(1,len(avarage_mae_history)+1),avarage_mae_history)\n",
    "plt.xlabel('epochs')\n",
    "plt.ylabel('Validation_MAE')\n",
    "plt.show()"
   ]
  },
  {
   "cell_type": "markdown",
   "metadata": {},
   "source": [
    "### smooth the curve to see better (remove the first epochs+ replace each point with a exponential moving average)"
   ]
  },
  {
   "cell_type": "code",
   "execution_count": 38,
   "metadata": {},
   "outputs": [],
   "source": [
    "def smooth(points,factor=0.9):\n",
    "    smoothed_points=[]\n",
    "    for p in points:\n",
    "        if(smoothed_points):\n",
    "            prev=smoothed_points[-1]\n",
    "            smoothed_points.append(prev*0.9+p*(1-factor))\n",
    "        else:\n",
    "            smoothed_points.append(p)\n",
    "    return smoothed_points\n",
    "            "
   ]
  },
  {
   "cell_type": "code",
   "execution_count": 39,
   "metadata": {},
   "outputs": [],
   "source": [
    "smooth_mae_history = smooth(avarage_mae_history[10:])"
   ]
  },
  {
   "cell_type": "code",
   "execution_count": 40,
   "metadata": {},
   "outputs": [
    {
     "data": {
      "image/png": "[encoded data removed]",
      "text/plain": [
       "<Figure size 432x288 with 1 Axes>"
      ]
     },
     "metadata": {},
     "output_type": "display_data"
    }
   ],
   "source": [
    "plt.plot(range(1,len(smooth_mae_history)+1),smooth_mae_history)\n",
    "plt.xlabel('epochs')\n",
    "plt.ylabel('Validation_MAE')\n",
    "plt.show() ##  80 is so OK !"
   ]
  },
  {
   "cell_type": "code",
   "execution_count": 41,
   "metadata": {},
   "outputs": [
    {
     "name": "stdout",
     "output_type": "stream",
     "text": [
      "102/102 [==============================] - 0s 2ms/step\n"
     ]
    }
   ],
   "source": [
    "model =build_model()\n",
    "model.fit(x_train,y_train,epochs=80,batch_size=16,verbose=0)\n",
    "test_mse_score,test_mae=model.evaluate(x_test,y_test)"
   ]
  },
  {
   "cell_type": "code",
   "execution_count": 44,
   "metadata": {},
   "outputs": [
    {
     "data": {
      "text/plain": [
       "2.7036883784275427"
      ]
     },
     "execution_count": 44,
     "metadata": {},
     "output_type": "execute_result"
    }
   ],
   "source": [
    "test_mae ## an avarage error of 2 million in the price is ok :D"
   ]
  },
  {
   "cell_type": "code",
   "execution_count": null,
   "metadata": {},
   "outputs": [],
   "source": []
  }
 ],
 "metadata": {
  "kernelspec": {
   "display_name": "Python 3",
   "language": "python",
   "name": "python3"
  },
  "language_info": {
   "codemirror_mode": {
    "name": "ipython",
    "version": 3
   },
   "file_extension": ".py",
   "mimetype": "text/x-python",
   "name": "python",
   "nbconvert_exporter": "python",
   "pygments_lexer": "ipython3",
   "version": "3.6.5"
  }
 },
 "nbformat": 4,
 "nbformat_minor": 2
}
