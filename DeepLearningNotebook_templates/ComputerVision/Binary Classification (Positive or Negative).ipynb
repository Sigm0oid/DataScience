{
 "cells": [
  {
   "cell_type": "code",
   "execution_count": 76,
   "metadata": {},
   "outputs": [],
   "source": [
    "from keras import models\n",
    "from keras import layers\n",
    "from keras import metrics\n",
    "from keras import optimizers\n",
    "from keras import losses\n",
    "import matplotlib.pyplot as plt\n",
    "from keras.datasets import imdb\n",
    "import numpy as np"
   ]
  },
  {
   "cell_type": "code",
   "execution_count": 8,
   "metadata": {},
   "outputs": [],
   "source": [
    "(x_train,y_train),(x_test,y_test),=imdb.load_data(num_words=10000)"
   ]
  },
  {
   "cell_type": "code",
   "execution_count": 36,
   "metadata": {},
   "outputs": [],
   "source": [
    "word_index=imdb.get_word_index()\n",
    "reverse_word_index=dict([(key,value)  for (value,key) in word_index.items()])\n",
    "decode_review=' '.join([reverse_word_index.get(i-3,'?') for i in x_train[0]])"
   ]
  },
  {
   "cell_type": "code",
   "execution_count": 37,
   "metadata": {},
   "outputs": [
    {
     "data": {
      "text/plain": [
       "\"? this film was just brilliant casting location scenery story direction everyone's really suited the part they played and you could just imagine being there robert ? is an amazing actor and now the same being director ? father came from the same scottish island as myself so i loved the fact there was a real connection with this film the witty remarks throughout the film were great it was just brilliant so much that i bought the film as soon as it was released for ? and would recommend it to everyone to watch and the fly fishing was amazing really cried at the end it was so sad and you know what they say if you cry at a film it must have been good and this definitely was also ? to the two little boy's that played the ? of norman and paul they were just brilliant children are often left out of the ? list i think because the stars that play them all grown up are such a big profile for the whole film but these children are amazing and should be praised for what they have done don't you think the whole story was so lovely because it was true and was someone's life after all that was shared with us all\""
      ]
     },
     "execution_count": 37,
     "metadata": {},
     "output_type": "execute_result"
    }
   ],
   "source": [
    "decode_review"
   ]
  },
  {
   "cell_type": "code",
   "execution_count": 65,
   "metadata": {},
   "outputs": [],
   "source": [
    "def one_hot(seqs,dim=10000):\n",
    "    res=np.zeros((len(seqs),dim))\n",
    "    for i,seq in enumerate(seqs): \n",
    "        res[i,seq]=1 #res [0,[1,14,22]]=1\n",
    "    return res"
   ]
  },
  {
   "cell_type": "code",
   "execution_count": 66,
   "metadata": {},
   "outputs": [],
   "source": [
    "x_train=one_hot(x_train)\n",
    "x_test=one_hot(x_test)"
   ]
  },
  {
   "cell_type": "code",
   "execution_count": 69,
   "metadata": {},
   "outputs": [],
   "source": [
    "model=models.Sequential()\n",
    "model.add(layers.Dense(16,activation='relu' , input_shape=(10000,)))\n",
    "model.add(layers.Dense(16,activation='relu'))\n",
    "model.add(layers.Dense(1,activation='sigmoid'))"
   ]
  },
  {
   "cell_type": "code",
   "execution_count": 73,
   "metadata": {},
   "outputs": [],
   "source": [
    "model.compile(optimizer=optimizers.RMSprop(lr=0.001),\n",
    "             loss=losses.binary_crossentropy,\n",
    "             metrics=[metrics.binary_accuracy])"
   ]
  },
  {
   "cell_type": "code",
   "execution_count": 74,
   "metadata": {},
   "outputs": [],
   "source": [
    "x_val=x_train[:1000]\n",
    "x_train=x_train[1000:]\n",
    "y_val=y_train[:1000]\n",
    "y_train=y_train[1000:]"
   ]
  },
  {
   "cell_type": "code",
   "execution_count": 75,
   "metadata": {},
   "outputs": [
    {
     "name": "stdout",
     "output_type": "stream",
     "text": [
      "Train on 24000 samples, validate on 1000 samples\n",
      "Epoch 1/20\n",
      "24000/24000 [==============================] - 3s 112us/step - loss: 0.4484 - binary_accuracy: 0.8211 - val_loss: 0.3150 - val_binary_accuracy: 0.8780\n",
      "Epoch 2/20\n",
      "24000/24000 [==============================] - 2s 90us/step - loss: 0.2590 - binary_accuracy: 0.9087 - val_loss: 0.2600 - val_binary_accuracy: 0.8880\n",
      "Epoch 3/20\n",
      "24000/24000 [==============================] - 2s 90us/step - loss: 0.1988 - binary_accuracy: 0.9300 - val_loss: 0.2506 - val_binary_accuracy: 0.8880\n",
      "Epoch 4/20\n",
      "24000/24000 [==============================] - 2s 91us/step - loss: 0.1662 - binary_accuracy: 0.9418 - val_loss: 0.2559 - val_binary_accuracy: 0.8900\n",
      "Epoch 5/20\n",
      "24000/24000 [==============================] - 2s 90us/step - loss: 0.1414 - binary_accuracy: 0.9509 - val_loss: 0.2655 - val_binary_accuracy: 0.8900\n",
      "Epoch 6/20\n",
      "24000/24000 [==============================] - 2s 90us/step - loss: 0.1207 - binary_accuracy: 0.9586 - val_loss: 0.2827 - val_binary_accuracy: 0.8950\n",
      "Epoch 7/20\n",
      "24000/24000 [==============================] - 2s 90us/step - loss: 0.1062 - binary_accuracy: 0.9633 - val_loss: 0.2988 - val_binary_accuracy: 0.8920\n",
      "Epoch 8/20\n",
      "24000/24000 [==============================] - 2s 90us/step - loss: 0.0895 - binary_accuracy: 0.9701 - val_loss: 0.3189 - val_binary_accuracy: 0.8890\n",
      "Epoch 9/20\n",
      "24000/24000 [==============================] - 2s 90us/step - loss: 0.0762 - binary_accuracy: 0.9763 - val_loss: 0.3483 - val_binary_accuracy: 0.8800\n",
      "Epoch 10/20\n",
      "24000/24000 [==============================] - 2s 90us/step - loss: 0.0656 - binary_accuracy: 0.9800 - val_loss: 0.3701 - val_binary_accuracy: 0.8790\n",
      "Epoch 11/20\n",
      "24000/24000 [==============================] - 2s 90us/step - loss: 0.0543 - binary_accuracy: 0.9840 - val_loss: 0.4204 - val_binary_accuracy: 0.8750\n",
      "Epoch 12/20\n",
      "24000/24000 [==============================] - 2s 90us/step - loss: 0.0450 - binary_accuracy: 0.9872 - val_loss: 0.4556 - val_binary_accuracy: 0.8720\n",
      "Epoch 13/20\n",
      "24000/24000 [==============================] - 2s 91us/step - loss: 0.0355 - binary_accuracy: 0.9904 - val_loss: 0.4632 - val_binary_accuracy: 0.8740\n",
      "Epoch 14/20\n",
      "24000/24000 [==============================] - 2s 90us/step - loss: 0.0305 - binary_accuracy: 0.9917 - val_loss: 0.4999 - val_binary_accuracy: 0.8730\n",
      "Epoch 15/20\n",
      "24000/24000 [==============================] - 2s 90us/step - loss: 0.0230 - binary_accuracy: 0.9945 - val_loss: 0.5254 - val_binary_accuracy: 0.8780\n",
      "Epoch 16/20\n",
      "24000/24000 [==============================] - 2s 90us/step - loss: 0.0194 - binary_accuracy: 0.9951 - val_loss: 0.6615 - val_binary_accuracy: 0.8650\n",
      "Epoch 17/20\n",
      "24000/24000 [==============================] - 2s 90us/step - loss: 0.0127 - binary_accuracy: 0.9975 - val_loss: 0.6183 - val_binary_accuracy: 0.8690\n",
      "Epoch 18/20\n",
      "24000/24000 [==============================] - 2s 92us/step - loss: 0.0117 - binary_accuracy: 0.9975 - val_loss: 0.6339 - val_binary_accuracy: 0.8670\n",
      "Epoch 19/20\n",
      "24000/24000 [==============================] - 2s 90us/step - loss: 0.0090 - binary_accuracy: 0.9986 - val_loss: 0.6696 - val_binary_accuracy: 0.8690\n",
      "Epoch 20/20\n",
      "24000/24000 [==============================] - 2s 90us/step - loss: 0.0075 - binary_accuracy: 0.9985 - val_loss: 0.6969 - val_binary_accuracy: 0.8760\n"
     ]
    }
   ],
   "source": [
    "history=model.fit(x_train,y_train,validation_data=(x_val,y_val),epochs=20,batch_size=512)\n"
   ]
  },
  {
   "cell_type": "code",
   "execution_count": null,
   "metadata": {},
   "outputs": [],
   "source": []
  },
  {
   "cell_type": "code",
   "execution_count": 79,
   "metadata": {},
   "outputs": [
    {
     "data": {
      "text/plain": [
       "{'val_loss': [0.31504660081863406,\n",
       "  0.260041298866272,\n",
       "  0.25061115860939026,\n",
       "  0.25593007969856263,\n",
       "  0.26549073433876036,\n",
       "  0.2826581370830536,\n",
       "  0.2988453028202057,\n",
       "  0.3188628635406494,\n",
       "  0.3482944805622101,\n",
       "  0.37012290382385254,\n",
       "  0.42044245290756227,\n",
       "  0.45561042523384093,\n",
       "  0.4632089018821716,\n",
       "  0.49988642406463624,\n",
       "  0.5253621983528137,\n",
       "  0.6614970064163208,\n",
       "  0.6182604417800903,\n",
       "  0.6338753657341003,\n",
       "  0.6695510978698731,\n",
       "  0.696864221572876],\n",
       " 'val_binary_accuracy': [0.8779999961853028,\n",
       "  0.8879999866485596,\n",
       "  0.8879999866485596,\n",
       "  0.8899999866485596,\n",
       "  0.8900000023841858,\n",
       "  0.8950000109672547,\n",
       "  0.8919999976158142,\n",
       "  0.8889999976158142,\n",
       "  0.8799999866485596,\n",
       "  0.8789999866485596,\n",
       "  0.875,\n",
       "  0.8720000133514404,\n",
       "  0.8740000023841857,\n",
       "  0.8730000023841857,\n",
       "  0.8779999952316284,\n",
       "  0.865,\n",
       "  0.869,\n",
       "  0.8670000047683716,\n",
       "  0.8690000047683716,\n",
       "  0.876],\n",
       " 'loss': [0.4483582595984141,\n",
       "  0.25903034218152365,\n",
       "  0.19879174586137136,\n",
       "  0.1662466961145401,\n",
       "  0.141367928703626,\n",
       "  0.12066317756970724,\n",
       "  0.10615522563457488,\n",
       "  0.08951314771175385,\n",
       "  0.07620315271615982,\n",
       "  0.0656403804620107,\n",
       "  0.05427552631497383,\n",
       "  0.045034461895624794,\n",
       "  0.03550402927895387,\n",
       "  0.030477329025665918,\n",
       "  0.022960794399182003,\n",
       "  0.019381367752949397,\n",
       "  0.012697071480254332,\n",
       "  0.01168559419363737,\n",
       "  0.008976478842397531,\n",
       "  0.00749675472577413],\n",
       " 'binary_accuracy': [0.8211249996821086,\n",
       "  0.9086666669845581,\n",
       "  0.9300416661898295,\n",
       "  0.9418333331743877,\n",
       "  0.9509166669845581,\n",
       "  0.9586250001589457,\n",
       "  0.9632916666666667,\n",
       "  0.9701249998410543,\n",
       "  0.9763333331743876,\n",
       "  0.980041666507721,\n",
       "  0.984,\n",
       "  0.9872499995231628,\n",
       "  0.9903750003178914,\n",
       "  0.9917083330154419,\n",
       "  0.9944583333333333,\n",
       "  0.9951250003178914,\n",
       "  0.9974583336512248,\n",
       "  0.9974583336512248,\n",
       "  0.998625,\n",
       "  0.9984583334922791]}"
      ]
     },
     "execution_count": 79,
     "metadata": {},
     "output_type": "execute_result"
    }
   ],
   "source": [
    "history.history"
   ]
  },
  {
   "cell_type": "code",
   "execution_count": 87,
   "metadata": {},
   "outputs": [
    {
     "data": {
      "text/plain": [
       "<matplotlib.legend.Legend at 0x7f01371c5c18>"
      ]
     },
     "execution_count": 87,
     "metadata": {},
     "output_type": "execute_result"
    },
    {
     "data": {
      "image/png": "[encoded data removed]",
      "text/plain": [
       "<Figure size 432x288 with 1 Axes>"
      ]
     },
     "metadata": {},
     "output_type": "display_data"
    }
   ],
   "source": [
    "plt.plot(history.epoch,history.history['loss'],'bo',label='Training loss')\n",
    "plt.plot(history.epoch,history.history['val_loss'],'b',label='Validation loss loss')\n",
    "plt.legend()"
   ]
  },
  {
   "cell_type": "code",
   "execution_count": 88,
   "metadata": {},
   "outputs": [
    {
     "data": {
      "text/plain": [
       "<matplotlib.legend.Legend at 0x7f0137612978>"
      ]
     },
     "execution_count": 88,
     "metadata": {},
     "output_type": "execute_result"
    },
    {
     "data": {
      "image/png": "[encoded data removed]",
      "text/plain": [
       "<Figure size 432x288 with 1 Axes>"
      ]
     },
     "metadata": {},
     "output_type": "display_data"
    }
   ],
   "source": [
    "plt.plot(history.epoch,history.history['val_binary_accuracy'],'bo',label='validation loss')\n",
    "plt.plot(history.epoch,history.history['binary_accuracy'],'b',label='Training loss')\n",
    "plt.legend()"
   ]
  },
  {
   "cell_type": "code",
   "execution_count": 89,
   "metadata": {},
   "outputs": [
    {
     "name": "stdout",
     "output_type": "stream",
     "text": [
      "Train on 24000 samples, validate on 1000 samples\n",
      "Epoch 1/5\n",
      "24000/24000 [==============================] - 2s 90us/step - loss: 0.0079 - binary_accuracy: 0.9979 - val_loss: 0.7120 - val_binary_accuracy: 0.8740\n",
      "Epoch 2/5\n",
      "24000/24000 [==============================] - 2s 90us/step - loss: 0.0078 - binary_accuracy: 0.9979 - val_loss: 0.7431 - val_binary_accuracy: 0.8740\n",
      "Epoch 3/5\n",
      "24000/24000 [==============================] - 2s 90us/step - loss: 0.0018 - binary_accuracy: 0.9999 - val_loss: 0.7635 - val_binary_accuracy: 0.8750\n",
      "Epoch 4/5\n",
      "24000/24000 [==============================] - 2s 90us/step - loss: 0.0047 - binary_accuracy: 0.9987 - val_loss: 0.7817 - val_binary_accuracy: 0.8730\n",
      "Epoch 5/5\n",
      "24000/24000 [==============================] - 2s 90us/step - loss: 0.0041 - binary_accuracy: 0.9989 - val_loss: 0.8440 - val_binary_accuracy: 0.8730\n"
     ]
    }
   ],
   "source": [
    "history=model.fit(x_train,y_train,validation_data=(x_val,y_val),epochs=5,batch_size=512)\n"
   ]
  },
  {
   "cell_type": "code",
   "execution_count": 90,
   "metadata": {},
   "outputs": [
    {
     "data": {
      "text/plain": [
       "<matplotlib.legend.Legend at 0x7f01376dc0b8>"
      ]
     },
     "execution_count": 90,
     "metadata": {},
     "output_type": "execute_result"
    },
    {
     "data": {
      "image/png": "[encoded data removed]",
      "text/plain": [
       "<Figure size 432x288 with 1 Axes>"
      ]
     },
     "metadata": {},
     "output_type": "display_data"
    }
   ],
   "source": [
    "plt.plot(history.epoch,history.history['loss'],'bo',label='Training loss')\n",
    "plt.plot(history.epoch,history.history['val_loss'],'b',label='Validation loss loss')\n",
    "plt.legend()"
   ]
  },
  {
   "cell_type": "code",
   "execution_count": 91,
   "metadata": {},
   "outputs": [
    {
     "data": {
      "text/plain": [
       "<matplotlib.legend.Legend at 0x7f01376eff60>"
      ]
     },
     "execution_count": 91,
     "metadata": {},
     "output_type": "execute_result"
    },
    {
     "data": {
      "image/png": "[encoded data removed]",
      "text/plain": [
       "<Figure size 432x288 with 1 Axes>"
      ]
     },
     "metadata": {},
     "output_type": "display_data"
    }
   ],
   "source": [
    "plt.plot(history.epoch,history.history['val_binary_accuracy'],'bo',label='validation loss')\n",
    "plt.plot(history.epoch,history.history['binary_accuracy'],'b',label='Training loss')\n",
    "plt.legend()"
   ]
  },
  {
   "cell_type": "code",
   "execution_count": null,
   "metadata": {},
   "outputs": [],
   "source": []
  }
 ],
 "metadata": {
  "kernelspec": {
   "display_name": "Python 3",
   "language": "python",
   "name": "python3"
  },
  "language_info": {
   "codemirror_mode": {
    "name": "ipython",
    "version": 3
   },
   "file_extension": ".py",
   "mimetype": "text/x-python",
   "name": "python",
   "nbconvert_exporter": "python",
   "pygments_lexer": "ipython3",
   "version": "3.6.5"
  }
 },
 "nbformat": 4,
 "nbformat_minor": 2
}
