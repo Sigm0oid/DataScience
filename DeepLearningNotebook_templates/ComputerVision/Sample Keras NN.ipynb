{
 "cells": [
  {
   "cell_type": "code",
   "execution_count": 37,
   "metadata": {},
   "outputs": [],
   "source": [
    "from keras import models\n",
    "from keras import layers\n",
    "from keras.datasets import mnist\n",
    "from keras.utils import to_categorical\n",
    "import matplotlib.pyplot as plt\n"
   ]
  },
  {
   "cell_type": "markdown",
   "metadata": {},
   "source": [
    "### The Data "
   ]
  },
  {
   "cell_type": "code",
   "execution_count": 49,
   "metadata": {},
   "outputs": [],
   "source": [
    "(train_images,train_labels),(test_images,test_labels)=mnist.load_data()"
   ]
  },
  {
   "cell_type": "code",
   "execution_count": 50,
   "metadata": {},
   "outputs": [
    {
     "data": {
      "image/png": "[encoded data removed]",
      "text/plain": [
       "<Figure size 432x288 with 1 Axes>"
      ]
     },
     "metadata": {},
     "output_type": "display_data"
    }
   ],
   "source": [
    "number=train_images[1]\n",
    "plt.imshow(number, cmap=plt.cm.binary)\n",
    "plt.show()\n"
   ]
  },
  {
   "cell_type": "markdown",
   "metadata": {},
   "source": [
    "### The model"
   ]
  },
  {
   "cell_type": "code",
   "execution_count": 8,
   "metadata": {},
   "outputs": [],
   "source": [
    "network = models.Sequential()\n",
    "network.add(layers.Dense(512,activation='relu',input_shape=(28*28,)))\n",
    "network.add(layers.Dense(10,activation='softmax'))"
   ]
  },
  {
   "cell_type": "markdown",
   "metadata": {},
   "source": [
    "### compile it "
   ]
  },
  {
   "cell_type": "code",
   "execution_count": 17,
   "metadata": {},
   "outputs": [],
   "source": [
    "network.compile(optimizer='rmsprop',loss='categorical_crossentropy',metrics=['accuracy'])"
   ]
  },
  {
   "cell_type": "markdown",
   "metadata": {},
   "source": [
    "### Reshape the input to fit in the model"
   ]
  },
  {
   "cell_type": "code",
   "execution_count": 51,
   "metadata": {},
   "outputs": [],
   "source": [
    "train_images=train_images.reshape((60000,28*28))\n",
    "train_images=train_images.astype('float32')/255\n",
    "\n",
    "\n",
    "test_images=test_images.reshape((10000,28*28))\n",
    "test_images=test_images.astype('float32')/255"
   ]
  },
  {
   "cell_type": "code",
   "execution_count": 52,
   "metadata": {},
   "outputs": [],
   "source": [
    "train_labels=to_categorical(train_labels)\n",
    "test_labels=to_categorical(test_labels)"
   ]
  },
  {
   "cell_type": "code",
   "execution_count": 53,
   "metadata": {},
   "outputs": [],
   "source": [
    "validation_images=train_images[:1000]\n",
    "train_images=train_images[1000:]\n",
    "validation_labels=train_labels[:1000]\n",
    "train_labels=train_labels[1000:]"
   ]
  },
  {
   "cell_type": "code",
   "execution_count": 70,
   "metadata": {},
   "outputs": [
    {
     "name": "stdout",
     "output_type": "stream",
     "text": [
      "Train on 59000 samples, validate on 1000 samples\n",
      "Epoch 1/15\n",
      "59000/59000 [==============================] - 3s 51us/step - loss: 0.6819 - acc: 0.9567 - val_loss: 0.7309 - val_acc: 0.9520\n",
      "Epoch 2/15\n",
      "59000/59000 [==============================] - 3s 51us/step - loss: 0.6828 - acc: 0.9565 - val_loss: 0.7411 - val_acc: 0.9510\n",
      "Epoch 3/15\n",
      "59000/59000 [==============================] - 3s 51us/step - loss: 0.6835 - acc: 0.9566 - val_loss: 0.8071 - val_acc: 0.9460\n",
      "Epoch 4/15\n",
      "59000/59000 [==============================] - 3s 51us/step - loss: 0.6727 - acc: 0.9575 - val_loss: 0.7526 - val_acc: 0.9530\n",
      "Epoch 5/15\n",
      "59000/59000 [==============================] - 3s 51us/step - loss: 0.6698 - acc: 0.9573 - val_loss: 0.7246 - val_acc: 0.9550\n",
      "Epoch 6/15\n",
      "59000/59000 [==============================] - 3s 51us/step - loss: 0.6651 - acc: 0.9578 - val_loss: 0.7916 - val_acc: 0.9490\n",
      "Epoch 7/15\n",
      "59000/59000 [==============================] - 3s 51us/step - loss: 0.6569 - acc: 0.9582 - val_loss: 0.7712 - val_acc: 0.9510\n",
      "Epoch 8/15\n",
      "59000/59000 [==============================] - 3s 51us/step - loss: 0.6529 - acc: 0.9587 - val_loss: 0.7844 - val_acc: 0.9490\n",
      "Epoch 9/15\n",
      "59000/59000 [==============================] - 3s 51us/step - loss: 0.6532 - acc: 0.9585 - val_loss: 0.7384 - val_acc: 0.9520\n",
      "Epoch 10/15\n",
      "59000/59000 [==============================] - 3s 51us/step - loss: 0.6401 - acc: 0.9593 - val_loss: 0.7500 - val_acc: 0.9520\n",
      "Epoch 11/15\n",
      "59000/59000 [==============================] - 3s 51us/step - loss: 0.6364 - acc: 0.9598 - val_loss: 0.7452 - val_acc: 0.9520\n",
      "Epoch 12/15\n",
      "59000/59000 [==============================] - 3s 51us/step - loss: 0.6382 - acc: 0.9595 - val_loss: 0.7737 - val_acc: 0.9500\n",
      "Epoch 13/15\n",
      "59000/59000 [==============================] - 3s 51us/step - loss: 0.6336 - acc: 0.9599 - val_loss: 0.7542 - val_acc: 0.9520\n",
      "Epoch 14/15\n",
      "59000/59000 [==============================] - 3s 51us/step - loss: 0.6298 - acc: 0.9602 - val_loss: 0.7119 - val_acc: 0.9540\n",
      "Epoch 15/15\n",
      "59000/59000 [==============================] - 3s 51us/step - loss: 0.6263 - acc: 0.9603 - val_loss: 0.7320 - val_acc: 0.9540\n"
     ]
    }
   ],
   "source": [
    "history=network.fit(train_images,train_labels,epochs=15,batch_size=128,\n",
    "                   validation_data=(validation_images,validation_labels))"
   ]
  },
  {
   "cell_type": "code",
   "execution_count": 71,
   "metadata": {},
   "outputs": [
    {
     "name": "stdout",
     "output_type": "stream",
     "text": [
      "10000/10000 [==============================] - 0s 31us/step\n"
     ]
    }
   ],
   "source": [
    "test_loss,test_acc=network.evaluate(test_images,test_labels)"
   ]
  },
  {
   "cell_type": "code",
   "execution_count": 72,
   "metadata": {},
   "outputs": [
    {
     "data": {
      "text/plain": [
       "0.9509"
      ]
     },
     "execution_count": 72,
     "metadata": {},
     "output_type": "execute_result"
    }
   ],
   "source": [
    "test_acc"
   ]
  },
  {
   "cell_type": "markdown",
   "metadata": {},
   "source": [
    "### History dict"
   ]
  },
  {
   "cell_type": "code",
   "execution_count": 73,
   "metadata": {
    "collapsed": true
   },
   "outputs": [
    {
     "data": {
      "text/plain": [
       "{'val_loss': [0.7308888578414917,\n",
       "  0.741101752281189,\n",
       "  0.8070756478309631,\n",
       "  0.75255313372612,\n",
       "  0.7245666446685791,\n",
       "  0.7915580420494079,\n",
       "  0.7712113394737243,\n",
       "  0.7844320514202118,\n",
       "  0.7384102096557618,\n",
       "  0.7499773850440979,\n",
       "  0.7451902542114258,\n",
       "  0.7737167432308197,\n",
       "  0.7542434148788452,\n",
       "  0.711904304265976,\n",
       "  0.7319621186256409],\n",
       " 'val_acc': [0.9519999995231628,\n",
       "  0.9510000009536743,\n",
       "  0.9459999995231628,\n",
       "  0.9530000009536743,\n",
       "  0.9549999971389771,\n",
       "  0.9489999971389771,\n",
       "  0.9509999971389771,\n",
       "  0.9490000009536743,\n",
       "  0.9520000009536743,\n",
       "  0.9519999971389771,\n",
       "  0.9519999971389771,\n",
       "  0.9500000009536743,\n",
       "  0.9520000009536743,\n",
       "  0.9539999985694885,\n",
       "  0.9540000009536743],\n",
       " 'loss': [0.6819167084936368,\n",
       "  0.6828202351877245,\n",
       "  0.6835492898730908,\n",
       "  0.6726677754935572,\n",
       "  0.669797169539888,\n",
       "  0.665144144228115,\n",
       "  0.656864813087179,\n",
       "  0.6529012612115466,\n",
       "  0.6531818150221291,\n",
       "  0.6400896923501613,\n",
       "  0.6364374287451728,\n",
       "  0.6382399588621269,\n",
       "  0.6335695848141686,\n",
       "  0.6297997236251831,\n",
       "  0.6263255761112402],\n",
       " 'acc': [0.9567457627361103,\n",
       "  0.9565423729298479,\n",
       "  0.9566101695076894,\n",
       "  0.9574915253671549,\n",
       "  0.9573389830912574,\n",
       "  0.9578135593462799,\n",
       "  0.9582372880951833,\n",
       "  0.958677966045121,\n",
       "  0.9585423729298479,\n",
       "  0.9593220338578952,\n",
       "  0.9597627118401608,\n",
       "  0.959542372824782,\n",
       "  0.9599322033817486,\n",
       "  0.9602203390072968,\n",
       "  0.9603389829942736]}"
      ]
     },
     "execution_count": 73,
     "metadata": {},
     "output_type": "execute_result"
    }
   ],
   "source": [
    "history.history"
   ]
  },
  {
   "cell_type": "code",
   "execution_count": 74,
   "metadata": {},
   "outputs": [
    {
     "data": {
      "text/plain": [
       "<matplotlib.legend.Legend at 0x7f2a6790fdd8>"
      ]
     },
     "execution_count": 74,
     "metadata": {},
     "output_type": "execute_result"
    },
    {
     "data": {
      "image/png": "[encoded data removed]",
      "text/plain": [
       "<Figure size 432x288 with 1 Axes>"
      ]
     },
     "metadata": {},
     "output_type": "display_data"
    }
   ],
   "source": [
    "\n",
    "epoches=range(1,len(history.history['acc'])+1)\n",
    "plt.plot(epoches,history.history['acc'],'bo',label='Validation Accuracy')\n",
    "plt.plot(epoches,history.history['val_loss'],'b',label='Validation Loss')\n",
    "plt.legend()"
   ]
  },
  {
   "cell_type": "code",
   "execution_count": 75,
   "metadata": {},
   "outputs": [
    {
     "data": {
      "text/plain": [
       "<matplotlib.legend.Legend at 0x7f2a67882128>"
      ]
     },
     "execution_count": 75,
     "metadata": {},
     "output_type": "execute_result"
    },
    {
     "data": {
      "image/png": "[encoded data removed]",
      "text/plain": [
       "<Figure size 432x288 with 1 Axes>"
      ]
     },
     "metadata": {},
     "output_type": "display_data"
    }
   ],
   "source": [
    "plt.plot(epoches,history.history['val_acc'],'bo',label='Training Accuracy')\n",
    "plt.plot(epoches,history.history['loss'],'b',label='Training Loss')\n",
    "plt.legend()"
   ]
  },
  {
   "cell_type": "code",
   "execution_count": null,
   "metadata": {},
   "outputs": [],
   "source": []
  }
 ],
 "metadata": {
  "kernelspec": {
   "display_name": "Python 3",
   "language": "python",
   "name": "python3"
  },
  "language_info": {
   "codemirror_mode": {
    "name": "ipython",
    "version": 3
   },
   "file_extension": ".py",
   "mimetype": "text/x-python",
   "name": "python",
   "nbconvert_exporter": "python",
   "pygments_lexer": "ipython3",
   "version": "3.6.5"
  }
 },
 "nbformat": 4,
 "nbformat_minor": 2
}
